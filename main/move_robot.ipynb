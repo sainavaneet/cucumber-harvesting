{
 "cells": [
  {
   "cell_type": "code",
   "execution_count": 6,
   "metadata": {},
   "outputs": [],
   "source": [
    "from interbotix_xs_modules.arm import InterbotixManipulatorXS\n",
    "import time\n",
    "import numpy as np\n",
    "from robot_utils import move_arms, torque_on, torque_off , move_grippers\n",
    "import rospy"
   ]
  },
  {
   "cell_type": "markdown",
   "metadata": {},
   "source": [
    "Torque for gripper\n"
   ]
  },
  {
   "cell_type": "code",
   "execution_count": null,
   "metadata": {},
   "outputs": [],
   "source": [
    "rospy.init_node('gripper_torque_off', anonymous=True)\n",
    "bot = InterbotixManipulatorXS(robot_model=\"vx300s\", group_name=\"arm\", gripper_name=\"gripper\", robot_name='puppet_left', init_node=False)\n",
    "rospy.sleep(2)\n",
    "bot.dxl.robot_torque_enable(\"single\", \"gripper\", False)"
   ]
  },
  {
   "cell_type": "code",
   "execution_count": 7,
   "metadata": {},
   "outputs": [
    {
     "ename": "ROSException",
     "evalue": "rospy.init_node() has already been called with different arguments: ('gripper_torque_off', ['/home/dexweaver/anaconda3/envs/aloha/lib/python3.8/site-packages/ipykernel_launcher.py', '--f=/home/dexweaver/.local/share/jupyter/runtime/kernel-v3906830a1884b3c54e66e56fdcdaca50dde3d62f9.json'], True, None, False, False)",
     "output_type": "error",
     "traceback": [
      "\u001b[0;31m---------------------------------------------------------------------------\u001b[0m",
      "\u001b[0;31mROSException\u001b[0m                              Traceback (most recent call last)",
      "Cell \u001b[0;32mIn[7], line 1\u001b[0m\n\u001b[0;32m----> 1\u001b[0m \u001b[43mrospy\u001b[49m\u001b[38;5;241;43m.\u001b[39;49m\u001b[43minit_node\u001b[49m\u001b[43m(\u001b[49m\u001b[38;5;124;43m'\u001b[39;49m\u001b[38;5;124;43msleep_robot_puppet_1\u001b[39;49m\u001b[38;5;124;43m'\u001b[39;49m\u001b[43m,\u001b[49m\u001b[43m \u001b[49m\u001b[43manonymous\u001b[49m\u001b[38;5;241;43m=\u001b[39;49m\u001b[38;5;28;43;01mTrue\u001b[39;49;00m\u001b[43m)\u001b[49m\n\u001b[1;32m      2\u001b[0m puppet_sleep_position \u001b[38;5;241m=\u001b[39m (\u001b[38;5;241m0\u001b[39m, \u001b[38;5;241m-\u001b[39m\u001b[38;5;241m1.7\u001b[39m, \u001b[38;5;241m1.55\u001b[39m, \u001b[38;5;241m0.12\u001b[39m, \u001b[38;5;241m0.65\u001b[39m, \u001b[38;5;241m0\u001b[39m)\n\u001b[1;32m      3\u001b[0m bot \u001b[38;5;241m=\u001b[39m InterbotixManipulatorXS(robot_model\u001b[38;5;241m=\u001b[39m\u001b[38;5;124m\"\u001b[39m\u001b[38;5;124mvx300s\u001b[39m\u001b[38;5;124m\"\u001b[39m, group_name\u001b[38;5;241m=\u001b[39m\u001b[38;5;124m\"\u001b[39m\u001b[38;5;124marm\u001b[39m\u001b[38;5;124m\"\u001b[39m, gripper_name\u001b[38;5;241m=\u001b[39m\u001b[38;5;124m\"\u001b[39m\u001b[38;5;124mgripper\u001b[39m\u001b[38;5;124m\"\u001b[39m, robot_name\u001b[38;5;241m=\u001b[39m\u001b[38;5;124m'\u001b[39m\u001b[38;5;124mpuppet_left\u001b[39m\u001b[38;5;124m'\u001b[39m, init_node\u001b[38;5;241m=\u001b[39m\u001b[38;5;28;01mFalse\u001b[39;00m)\n",
      "File \u001b[0;32m/opt/ros/noetic/lib/python3/dist-packages/rospy/client.py:274\u001b[0m, in \u001b[0;36minit_node\u001b[0;34m(name, argv, anonymous, log_level, disable_rostime, disable_rosout, disable_signals, xmlrpc_port, tcpros_port)\u001b[0m\n\u001b[1;32m    272\u001b[0m \u001b[38;5;28;01mif\u001b[39;00m _init_node_args:\n\u001b[1;32m    273\u001b[0m     \u001b[38;5;28;01mif\u001b[39;00m _init_node_args \u001b[38;5;241m!=\u001b[39m (name, argv, anonymous, log_level, disable_rostime, disable_signals):\n\u001b[0;32m--> 274\u001b[0m         \u001b[38;5;28;01mraise\u001b[39;00m rospy\u001b[38;5;241m.\u001b[39mexceptions\u001b[38;5;241m.\u001b[39mROSException(\u001b[38;5;124m\"\u001b[39m\u001b[38;5;124mrospy.init_node() has already been called with different arguments: \u001b[39m\u001b[38;5;124m\"\u001b[39m\u001b[38;5;241m+\u001b[39m\u001b[38;5;28mstr\u001b[39m(_init_node_args))\n\u001b[1;32m    275\u001b[0m     \u001b[38;5;28;01melse\u001b[39;00m:\n\u001b[1;32m    276\u001b[0m         \u001b[38;5;28;01mreturn\u001b[39;00m \u001b[38;5;66;03m#already initialized\u001b[39;00m\n",
      "\u001b[0;31mROSException\u001b[0m: rospy.init_node() has already been called with different arguments: ('gripper_torque_off', ['/home/dexweaver/anaconda3/envs/aloha/lib/python3.8/site-packages/ipykernel_launcher.py', '--f=/home/dexweaver/.local/share/jupyter/runtime/kernel-v3906830a1884b3c54e66e56fdcdaca50dde3d62f9.json'], True, None, False, False)"
     ]
    }
   ],
   "source": [
    "rospy.init_node('sleep_robot_puppet_1', anonymous=True)\n",
    "puppet_sleep_position = (0, -1.7, 1.55, 0.12, 0.65, 0)\n",
    "bot = InterbotixManipulatorXS(robot_model=\"vx300s\", group_name=\"arm\", gripper_name=\"gripper\", robot_name='puppet_left', init_node=False)\n",
    "\n",
    "move_arms([bot], [puppet_sleep_position], move_time=4)\n",
    "rospy.sleep(2)"
   ]
  },
  {
   "cell_type": "code",
   "execution_count": null,
   "metadata": {},
   "outputs": [],
   "source": []
  }
 ],
 "metadata": {
  "kernelspec": {
   "display_name": "aloha",
   "language": "python",
   "name": "python3"
  },
  "language_info": {
   "codemirror_mode": {
    "name": "ipython",
    "version": 3
   },
   "file_extension": ".py",
   "mimetype": "text/x-python",
   "name": "python",
   "nbconvert_exporter": "python",
   "pygments_lexer": "ipython3",
   "version": "3.8.19"
  }
 },
 "nbformat": 4,
 "nbformat_minor": 2
}
